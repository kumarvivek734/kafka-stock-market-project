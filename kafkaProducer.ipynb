{
 "cells": [
  {
   "cell_type": "code",
   "execution_count": null,
   "id": "f5242ac6-802d-478b-8da0-4e443aa7048c",
   "metadata": {},
   "outputs": [],
   "source": [
    "!pip install kafka-python"
   ]
  },
  {
   "cell_type": "code",
   "execution_count": null,
   "id": "057729bb-d4fd-4abf-95d7-7d2cf97e6000",
   "metadata": {},
   "outputs": [],
   "source": [
    "!pip install six"
   ]
  },
  {
   "cell_type": "code",
   "execution_count": null,
   "id": "7c243801-3800-4e8a-9883-942bf1641372",
   "metadata": {},
   "outputs": [],
   "source": [
    "!pip install s3fs"
   ]
  },
  {
   "cell_type": "code",
   "execution_count": null,
   "id": "2ff3607e-8d37-44d5-b41b-1ee14f8d3e1e",
   "metadata": {},
   "outputs": [],
   "source": [
    "import pandas as pd\n",
    "from time import sleep\n",
    "from json import dumps\n",
    "import json"
   ]
  },
  {
   "cell_type": "code",
   "execution_count": null,
   "id": "771bacac-714b-4d59-a829-3f5342274c78",
   "metadata": {},
   "outputs": [],
   "source": [
    "from kafka import KafkaProducer\n"
   ]
  },
  {
   "cell_type": "code",
   "execution_count": null,
   "id": "2bf1d1e9-6ad1-47cb-badf-abefd5f136d8",
   "metadata": {},
   "outputs": [],
   "source": [
    "producer = KafkaProducer(bootstrap_servers=['13.233.82.73:9092'],\n",
    "                         value_serializer=lambda x: \n",
    "                         dumps(x).encode('utf-8'))"
   ]
  },
  {
   "cell_type": "code",
   "execution_count": null,
   "id": "30cfe7d8-f978-4679-8592-48450816030a",
   "metadata": {},
   "outputs": [],
   "source": [
    "producer.send('demo_test_stock_market',value = \"{'name':'vivek'}\")"
   ]
  },
  {
   "cell_type": "code",
   "execution_count": null,
   "id": "acb22eb4-967e-490f-9929-9bc267fb241e",
   "metadata": {},
   "outputs": [],
   "source": [
    "producer.send('demo_test_stock_market',value = \"{'name':'vishal'}\")"
   ]
  },
  {
   "cell_type": "code",
   "execution_count": null,
   "id": "44eccc7b-fd84-4714-8af3-206aaab1c74d",
   "metadata": {},
   "outputs": [],
   "source": [
    "df = pd.read_csv(\"data/indexProcessed.csv\")"
   ]
  },
  {
   "cell_type": "code",
   "execution_count": null,
   "id": "77e8d431-dc39-4a3d-9819-1254bc8b45a4",
   "metadata": {},
   "outputs": [],
   "source": [
    "df.head(1)"
   ]
  },
  {
   "cell_type": "code",
   "execution_count": null,
   "id": "8e6afcb3-4e70-477f-a050-86ff20c18d55",
   "metadata": {},
   "outputs": [],
   "source": [
    "while True:\n",
    "    dict_item = df.sample(1).to_dict(orient = \"records\")[0]\n",
    "    producer.send('demo_test_stock_market',value = dict_item)\n",
    "    sleep(1)"
   ]
  },
  {
   "cell_type": "code",
   "execution_count": null,
   "id": "b9f074fd-6d57-4bbc-97c7-0f87b078b58e",
   "metadata": {},
   "outputs": [],
   "source": [
    "producer.flush()"
   ]
  },
  {
   "cell_type": "code",
   "execution_count": null,
   "id": "fc78d326-278d-49da-9719-9d1972b76b87",
   "metadata": {},
   "outputs": [],
   "source": []
  }
 ],
 "metadata": {
  "kernelspec": {
   "display_name": "Python 3 (ipykernel)",
   "language": "python",
   "name": "python3"
  },
  "language_info": {
   "codemirror_mode": {
    "name": "ipython",
    "version": 3
   },
   "file_extension": ".py",
   "mimetype": "text/x-python",
   "name": "python",
   "nbconvert_exporter": "python",
   "pygments_lexer": "ipython3",
   "version": "3.12.2"
  }
 },
 "nbformat": 4,
 "nbformat_minor": 5
}
